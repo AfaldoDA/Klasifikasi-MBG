{
 "cells": [
  {
   "cell_type": "code",
   "execution_count": 1,
   "metadata": {},
   "outputs": [],
   "source": [
    "import pandas as pd\n",
    "from Sastrawi.Stemmer.StemmerFactory import StemmerFactory\n",
    "import re\n",
    "import demoji\n",
    "from transformers import AutoTokenizer, AutoModelForSequenceClassification\n"
   ]
  },
  {
   "cell_type": "code",
   "execution_count": 2,
   "metadata": {},
   "outputs": [],
   "source": [
    "from transformers import AutoTokenizer, AutoModelForSequenceClassification\n",
    "\n",
    "tokenizer = AutoTokenizer.from_pretrained(\"w11wo/indonesian-roberta-base-sentiment-classifier\")\n",
    "model = AutoModelForSequenceClassification.from_pretrained(\"w11wo/indonesian-roberta-base-sentiment-classifier\")\n",
    "\n"
   ]
  },
  {
   "cell_type": "code",
   "execution_count": 3,
   "metadata": {},
   "outputs": [
    {
     "data": {
      "text/html": [
       "<div>\n",
       "<style scoped>\n",
       "    .dataframe tbody tr th:only-of-type {\n",
       "        vertical-align: middle;\n",
       "    }\n",
       "\n",
       "    .dataframe tbody tr th {\n",
       "        vertical-align: top;\n",
       "    }\n",
       "\n",
       "    .dataframe thead th {\n",
       "        text-align: right;\n",
       "    }\n",
       "</style>\n",
       "<table border=\"1\" class=\"dataframe\">\n",
       "  <thead>\n",
       "    <tr style=\"text-align: right;\">\n",
       "      <th></th>\n",
       "      <th>conversation_id_str</th>\n",
       "      <th>created_at</th>\n",
       "      <th>favorite_count</th>\n",
       "      <th>full_text</th>\n",
       "      <th>id_str</th>\n",
       "      <th>image_url</th>\n",
       "      <th>in_reply_to_screen_name</th>\n",
       "      <th>lang</th>\n",
       "      <th>location</th>\n",
       "      <th>quote_count</th>\n",
       "      <th>reply_count</th>\n",
       "      <th>retweet_count</th>\n",
       "      <th>tweet_url</th>\n",
       "      <th>user_id_str</th>\n",
       "      <th>username</th>\n",
       "    </tr>\n",
       "  </thead>\n",
       "  <tbody>\n",
       "    <tr>\n",
       "      <th>0</th>\n",
       "      <td>1.918688e+18</td>\n",
       "      <td>Sun May 04 23:59:03 +0000 2025</td>\n",
       "      <td>2</td>\n",
       "      <td>@JackMoon_MikeAK @ciptaanmamah @redread99 @soc...</td>\n",
       "      <td>1.919180e+18</td>\n",
       "      <td>NaN</td>\n",
       "      <td>JackMoon_MikeAK</td>\n",
       "      <td>in</td>\n",
       "      <td>NaN</td>\n",
       "      <td>0</td>\n",
       "      <td>0</td>\n",
       "      <td>0</td>\n",
       "      <td>https://x.com/undefined/status/191917999970738...</td>\n",
       "      <td>9.690300e+07</td>\n",
       "      <td>NaN</td>\n",
       "    </tr>\n",
       "    <tr>\n",
       "      <th>1</th>\n",
       "      <td>1.919180e+18</td>\n",
       "      <td>Sun May 04 23:57:16 +0000 2025</td>\n",
       "      <td>2</td>\n",
       "      <td>Kebutuhan gizi anak-anak Papua dapat terpenuhi...</td>\n",
       "      <td>1.919180e+18</td>\n",
       "      <td>https://pbs.twimg.com/media/GqJLn-Ua4AAsTnE.jpg</td>\n",
       "      <td>NaN</td>\n",
       "      <td>in</td>\n",
       "      <td>NaN</td>\n",
       "      <td>0</td>\n",
       "      <td>1</td>\n",
       "      <td>1</td>\n",
       "      <td>https://x.com/undefined/status/191917955150399...</td>\n",
       "      <td>1.356942e+18</td>\n",
       "      <td>NaN</td>\n",
       "    </tr>\n",
       "    <tr>\n",
       "      <th>2</th>\n",
       "      <td>1.919176e+18</td>\n",
       "      <td>Sun May 04 23:44:18 +0000 2025</td>\n",
       "      <td>0</td>\n",
       "      <td>Program MBG menjadi langkah strategis untuk me...</td>\n",
       "      <td>1.919176e+18</td>\n",
       "      <td>https://pbs.twimg.com/media/GqJIpRdb0AA2yi4.jpg</td>\n",
       "      <td>NaN</td>\n",
       "      <td>in</td>\n",
       "      <td>NaN</td>\n",
       "      <td>0</td>\n",
       "      <td>0</td>\n",
       "      <td>0</td>\n",
       "      <td>https://x.com/undefined/status/191917628857036...</td>\n",
       "      <td>1.412343e+18</td>\n",
       "      <td>NaN</td>\n",
       "    </tr>\n",
       "    <tr>\n",
       "      <th>3</th>\n",
       "      <td>1.918596e+18</td>\n",
       "      <td>Sun May 04 23:37:10 +0000 2025</td>\n",
       "      <td>0</td>\n",
       "      <td>@sseemsms @ongenlus Gabisa program ini dikerja...</td>\n",
       "      <td>1.919174e+18</td>\n",
       "      <td>NaN</td>\n",
       "      <td>sseemsms</td>\n",
       "      <td>in</td>\n",
       "      <td>NaN</td>\n",
       "      <td>0</td>\n",
       "      <td>0</td>\n",
       "      <td>0</td>\n",
       "      <td>https://x.com/undefined/status/191917449187760...</td>\n",
       "      <td>1.703355e+18</td>\n",
       "      <td>NaN</td>\n",
       "    </tr>\n",
       "    <tr>\n",
       "      <th>4</th>\n",
       "      <td>1.918906e+18</td>\n",
       "      <td>Sun May 04 23:20:17 +0000 2025</td>\n",
       "      <td>0</td>\n",
       "      <td>@egharap @anakodok2009 @Forum_MBG @barengwarga...</td>\n",
       "      <td>1.919170e+18</td>\n",
       "      <td>NaN</td>\n",
       "      <td>egharap</td>\n",
       "      <td>in</td>\n",
       "      <td>NaN</td>\n",
       "      <td>0</td>\n",
       "      <td>0</td>\n",
       "      <td>0</td>\n",
       "      <td>https://x.com/undefined/status/191917024475023...</td>\n",
       "      <td>4.597496e+09</td>\n",
       "      <td>NaN</td>\n",
       "    </tr>\n",
       "  </tbody>\n",
       "</table>\n",
       "</div>"
      ],
      "text/plain": [
       "   conversation_id_str                      created_at  favorite_count  \\\n",
       "0         1.918688e+18  Sun May 04 23:59:03 +0000 2025               2   \n",
       "1         1.919180e+18  Sun May 04 23:57:16 +0000 2025               2   \n",
       "2         1.919176e+18  Sun May 04 23:44:18 +0000 2025               0   \n",
       "3         1.918596e+18  Sun May 04 23:37:10 +0000 2025               0   \n",
       "4         1.918906e+18  Sun May 04 23:20:17 +0000 2025               0   \n",
       "\n",
       "                                           full_text        id_str  \\\n",
       "0  @JackMoon_MikeAK @ciptaanmamah @redread99 @soc...  1.919180e+18   \n",
       "1  Kebutuhan gizi anak-anak Papua dapat terpenuhi...  1.919180e+18   \n",
       "2  Program MBG menjadi langkah strategis untuk me...  1.919176e+18   \n",
       "3  @sseemsms @ongenlus Gabisa program ini dikerja...  1.919174e+18   \n",
       "4  @egharap @anakodok2009 @Forum_MBG @barengwarga...  1.919170e+18   \n",
       "\n",
       "                                         image_url in_reply_to_screen_name  \\\n",
       "0                                              NaN         JackMoon_MikeAK   \n",
       "1  https://pbs.twimg.com/media/GqJLn-Ua4AAsTnE.jpg                     NaN   \n",
       "2  https://pbs.twimg.com/media/GqJIpRdb0AA2yi4.jpg                     NaN   \n",
       "3                                              NaN                sseemsms   \n",
       "4                                              NaN                 egharap   \n",
       "\n",
       "  lang  location  quote_count  reply_count  retweet_count  \\\n",
       "0   in       NaN            0            0              0   \n",
       "1   in       NaN            0            1              1   \n",
       "2   in       NaN            0            0              0   \n",
       "3   in       NaN            0            0              0   \n",
       "4   in       NaN            0            0              0   \n",
       "\n",
       "                                           tweet_url   user_id_str  username  \n",
       "0  https://x.com/undefined/status/191917999970738...  9.690300e+07       NaN  \n",
       "1  https://x.com/undefined/status/191917955150399...  1.356942e+18       NaN  \n",
       "2  https://x.com/undefined/status/191917628857036...  1.412343e+18       NaN  \n",
       "3  https://x.com/undefined/status/191917449187760...  1.703355e+18       NaN  \n",
       "4  https://x.com/undefined/status/191917024475023...  4.597496e+09       NaN  "
      ]
     },
     "execution_count": 3,
     "metadata": {},
     "output_type": "execute_result"
    }
   ],
   "source": [
    "df = pd.read_csv ('data-mbg.csv')\n",
    "df.head()\n"
   ]
  },
  {
   "cell_type": "code",
   "execution_count": 4,
   "metadata": {},
   "outputs": [
    {
     "data": {
      "text/plain": [
       "0    @JackMoon_MikeAK @ciptaanmamah @redread99 @soc...\n",
       "1    Kebutuhan gizi anak-anak Papua dapat terpenuhi...\n",
       "2    Program MBG menjadi langkah strategis untuk me...\n",
       "3    @sseemsms @ongenlus Gabisa program ini dikerja...\n",
       "4    @egharap @anakodok2009 @Forum_MBG @barengwarga...\n",
       "Name: full_text, dtype: object"
      ]
     },
     "execution_count": 4,
     "metadata": {},
     "output_type": "execute_result"
    }
   ],
   "source": [
    "teks = df[\"full_text\"]\n",
    "teks.head()"
   ]
  },
  {
   "cell_type": "code",
   "execution_count": 9,
   "metadata": {},
   "outputs": [],
   "source": [
    "# Load kamus alay \n",
    "kamus_df = pd.read_csv(\"kamus-alay.csv\", encoding='latin1') \n",
    "kamus = dict(zip(kamus_df['slang'], kamus_df['formal']))\n",
    "\n",
    "# Fungsi\"\n",
    "def normalisasi(text):\n",
    "    return ' '.join([kamus.get(kata, kata) for kata in text.split()])\n",
    "\n",
    "def remove_emoji(text):\n",
    "    return demoji.replace(text, \"\")\n",
    "\n",
    "def bersihkan(text):\n",
    "    if pd.isna(text):\n",
    "        return \"\"\n",
    "    text = text.lower()\n",
    "    text = remove_emoji(text)\n",
    "    text = re.sub(r\"http\\S+|www.\\S+\", \"\", text)\n",
    "    text = re.sub(r\"@\\w+|#\\w+\", \"\", text)\n",
    "    text = re.sub(r\"\\d+\", \"\", text)\n",
    "    text = re.sub(r\"[^a-zA-Z0-9\\s]\", \" \", text)\n",
    "    text = re.sub(r\"\\s+\", \" \", text).strip()\n",
    "    text = normalisasi(text)  # ← normalisasi slang \n",
    "    return text\n"
   ]
  },
  {
   "cell_type": "code",
   "execution_count": 10,
   "metadata": {},
   "outputs": [],
   "source": [
    "teks_bersih = teks.apply(bersihkan)\n",
    "df[\"clean_text\"] = teks_bersih\n"
   ]
  },
  {
   "cell_type": "code",
   "execution_count": 11,
   "metadata": {},
   "outputs": [
    {
     "data": {
      "text/plain": [
       "<bound method NDFrame.head of 0       mengapai juga mengkritisi terlalu dalam pihak ...\n",
       "1       kebutuhan gizi anak anak papua dapat terpenuhi...\n",
       "2       program mbak menjadi langkah strategis untuk m...\n",
       "3       enggak bisa program ini dikerjain pemerintah p...\n",
       "4       tampaknya begitu ya tapi sebaiknya kepala bgn ...\n",
       "                              ...                        \n",
       "1220    cianjur makin percaya diri konsumsi program mb...\n",
       "1221    karanganyar yakin masa depan cerah bareng mbak...\n",
       "1222    tiga lokasi disiapkan menjadi lahan dapur mbak...\n",
       "1223    enggak ada fendor enggak dibayar kalau telat d...\n",
       "1224    satu dapur bermasalah tapi ribuan lainnya teta...\n",
       "Name: full_text, Length: 1225, dtype: object>"
      ]
     },
     "execution_count": 11,
     "metadata": {},
     "output_type": "execute_result"
    }
   ],
   "source": [
    "teks_bersih.head"
   ]
  },
  {
   "cell_type": "code",
   "execution_count": 12,
   "metadata": {},
   "outputs": [
    {
     "data": {
      "text/plain": [
       "16      bandung semangat dengan kolaborasi bpom progra...\n",
       "26      bandung terus sukseskan program mbak bpom hadi...\n",
       "54                                   manfaat program mbak\n",
       "66      dukung terus sinergi bpom dan puskesmas biar p...\n",
       "91      presiden tegaskan program makan bergizi gratis...\n",
       "                              ...                        \n",
       "1201    dan waktu makan after sholat dhuhur karena jam...\n",
       "1203    satu masalah utama program mbak prabowo kenapa...\n",
       "1208    harapan positif tumbuh saat bpom bareng puskes...\n",
       "1210    dukungan total untuk mbak dari bandung bareng ...\n",
       "1220    cianjur makin percaya diri konsumsi program mb...\n",
       "Name: full_text, Length: 217, dtype: object"
      ]
     },
     "execution_count": 12,
     "metadata": {},
     "output_type": "execute_result"
    }
   ],
   "source": [
    "###Minimalisir Buzzer\n",
    "teks_bersih[teks_bersih.duplicated()]\n"
   ]
  },
  {
   "cell_type": "code",
   "execution_count": 13,
   "metadata": {},
   "outputs": [],
   "source": [
    "teks_bersih = teks_bersih.drop_duplicates()\n"
   ]
  },
  {
   "cell_type": "code",
   "execution_count": 14,
   "metadata": {},
   "outputs": [
    {
     "data": {
      "text/plain": [
       "0    mengapai juga mengkritisi terlalu dalam pihak ...\n",
       "1    kebutuhan gizi anak anak papua dapat terpenuhi...\n",
       "2    program mbak menjadi langkah strategis untuk m...\n",
       "3    enggak bisa program ini dikerjain pemerintah p...\n",
       "4    tampaknya begitu ya tapi sebaiknya kepala bgn ...\n",
       "Name: full_text, dtype: object"
      ]
     },
     "execution_count": 14,
     "metadata": {},
     "output_type": "execute_result"
    }
   ],
   "source": [
    "teks_bersih.head()"
   ]
  },
  {
   "cell_type": "code",
   "execution_count": 15,
   "metadata": {},
   "outputs": [
    {
     "name": "stderr",
     "output_type": "stream",
     "text": [
      "Device set to use cpu\n"
     ]
    }
   ],
   "source": [
    "from transformers import pipeline\n",
    "\n",
    "# Buat pipeline untuk analisis sentimen\n",
    "sentiment_analysis = pipeline(\n",
    "    \"text-classification\",\n",
    "    model=model,\n",
    "    tokenizer=tokenizer\n",
    ")\n",
    "\n",
    "# Fungsi untuk mendapatkan sentimen\n",
    "def predict_sentiment(text):\n",
    "    result = sentiment_analysis(text)\n",
    "    return result[0]['label'], result[0]['score']\n",
    "\n",
    "# Terapkan ke teks yang sudah dibersihkan\n",
    "df[['sentimen', 'skor']] = df['clean_text'].apply(\n",
    "    lambda x: pd.Series(predict_sentiment(x) if x.strip() else ('neutral', 0))\n",
    ")"
   ]
  },
  {
   "cell_type": "code",
   "execution_count": 16,
   "metadata": {},
   "outputs": [
    {
     "name": "stdout",
     "output_type": "stream",
     "text": [
      "sentimen\n",
      "positive    44.081633\n",
      "negative    28.408163\n",
      "neutral     27.510204\n",
      "Name: proportion, dtype: float64\n",
      "                                          clean_text  sentimen      skor\n",
      "0  mengapai juga mengkritisi terlalu dalam pihak ...  negative  0.998993\n",
      "1  kebutuhan gizi anak anak papua dapat terpenuhi...   neutral  0.968161\n",
      "2  program mbak menjadi langkah strategis untuk m...   neutral  0.873316\n",
      "3  enggak bisa program ini dikerjain pemerintah p...  negative  0.998952\n",
      "4  tampaknya begitu ya tapi sebaiknya kepala bgn ...  negative  0.991878\n",
      "5  kayak enggak tau saja typical orang indonesia ...  negative  0.757163\n",
      "6  bandung makin keren setelah tau program mbak k...  positive  0.999018\n",
      "7  saat ini enggak usah ada hubungan diplomatikan...   neutral  0.990293\n",
      "8  kenapa sebelum membuat janji kampamye tidak me...  negative  0.631427\n",
      "9  prabowo akui program mbak rawan dikorupsi jadi...   neutral  0.992866\n"
     ]
    }
   ],
   "source": [
    "# Hitung distribusi sentimen\n",
    "sentimen_distribusi = df['sentimen'].value_counts(normalize=True) * 100\n",
    "print(sentimen_distribusi)\n",
    "\n",
    "# Contoh melihat beberapa hasil\n",
    "print(df[['clean_text', 'sentimen', 'skor']].head(10))"
   ]
  },
  {
   "cell_type": "code",
   "execution_count": 17,
   "metadata": {},
   "outputs": [
    {
     "data": {
      "image/png": "[encoded data removed]",
      "text/plain": [
       "<Figure size 800x600 with 1 Axes>"
      ]
     },
     "metadata": {},
     "output_type": "display_data"
    }
   ],
   "source": [
    "import matplotlib.pyplot as plt\n",
    "import seaborn as sns\n",
    "\n",
    "# Visualisasi distribusi sentimen\n",
    "plt.figure(figsize=(8, 6))\n",
    "sns.countplot(data=df, x='sentimen', order=['positive', 'neutral', 'negative'])\n",
    "plt.title('Distribusi Sentimen')\n",
    "plt.show()"
   ]
  }
 ],
 "metadata": {
  "kernelspec": {
   "display_name": "mavenv",
   "language": "python",
   "name": "python3"
  },
  "language_info": {
   "codemirror_mode": {
    "name": "ipython",
    "version": 3
   },
   "file_extension": ".py",
   "mimetype": "text/x-python",
   "name": "python",
   "nbconvert_exporter": "python",
   "pygments_lexer": "ipython3",
   "version": "3.13.3"
  }
 },
 "nbformat": 4,
 "nbformat_minor": 2
}
